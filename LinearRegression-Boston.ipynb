{
 "cells": [
  {
   "cell_type": "markdown",
   "metadata": {},
   "source": [
    "# Import Software Packages"
   ]
  },
  {
   "cell_type": "code",
   "execution_count": 1,
   "metadata": {},
   "outputs": [
    {
     "name": "stdout",
     "output_type": "stream",
     "text": [
      "Libraries used in this project:\n",
      "- Python 3.8.18 | packaged by conda-forge | (default, Dec 23 2023, 17:23:49) \n",
      "[Clang 15.0.7 ]\n",
      "- NumPy 1.24.3\n",
      "- pandas 2.0.3\n",
      "- Matplotlib 3.7.2\n",
      "- Seaborn 0.9.0\n",
      "- scikit-learn 1.3.2\n",
      "\n"
     ]
    }
   ],
   "source": [
    "import sys                                             # Read system parameters.\n",
    "import os                                              # Interact with the operating system\n",
    "import numpy as np                                     # Work with multi-dimensional arrays and matrices.\n",
    "import pandas as pd                                    # Manipulate and analyze data.\n",
    "import matplotlib as mpl                               # Create 2D charts.\n",
    "import matplotlib.pyplot as plt                        # Create figures\n",
    "import matplotlib.cm as cm                             # Create Color maps\n",
    "import seaborn as sb                                   # Perform data visualization.\n",
    "import sklearn                                         # Perform data mining and analysis.\n",
    "from sklearn import datasets\n",
    "\n",
    "# Summarize software libraries used.\n",
    "print('Libraries used in this project:')\n",
    "print('- Python {}'.format(sys.version))\n",
    "print('- NumPy {}'.format(np.__version__))\n",
    "print('- pandas {}'.format(pd.__version__))\n",
    "print('- Matplotlib {}'.format(mpl.__version__))\n",
    "print('- Seaborn {}'.format(sb.__version__))\n",
    "print('- scikit-learn {}\\n'.format(sklearn.__version__))"
   ]
  },
  {
   "cell_type": "markdown",
   "metadata": {},
   "source": [
    "# Load Dataset"
   ]
  },
  {
   "cell_type": "code",
   "execution_count": 2,
   "metadata": {},
   "outputs": [
    {
     "name": "stdout",
     "output_type": "stream",
     "text": [
      "Data files in this project: ['BostonHousing.csv', '.ipynb_checkpoints']\n",
      "Loaded 506 records from ./data/BostonHousing.csv.\n",
      "\n"
     ]
    }
   ],
   "source": [
    "PROJECT_ROOT_DIR = \".\"\n",
    "DATA_PATH = os.path.join(PROJECT_ROOT_DIR, \"data/\")\n",
    "print(\"Data files in this project:\", os.listdir(DATA_PATH))\n",
    "\n",
    "# Read the raw dataset\n",
    "raw_housing_data_file = os.path.join(DATA_PATH, \"BostonHousing.csv\")\n",
    "data_raw = pd.read_csv(raw_housing_data_file)\n",
    "print(\n",
    "    \"Loaded {} records from {}.\\n\".format(len(data_raw), raw_housing_data_file)\n",
    ")"
   ]
  },
  {
   "cell_type": "markdown",
   "metadata": {},
   "source": [
    "# Explore the Dataset"
   ]
  },
  {
   "cell_type": "markdown",
   "metadata": {},
   "source": [
    "#### View features and data types"
   ]
  },
  {
   "cell_type": "markdown",
   "metadata": {},
   "source": [
    "**View Columns**\n",
    "\n",
    "- **CRIM** is the per-capita crime rate of the area.\n",
    "- **CHAS** refers to the \"Charles River dummy variable\"—if 1, the land bounds the river; if 0, it\n",
    "does not.\n",
    "- **NOX** is the level of nitrogen oxides (NO2) in the area. High levels of NO2 can cause health\n",
    "issues.\n",
    "- **RM** is the average number of rooms per house.\n",
    "- **AGE** is the proportion of occupied units built before 1940.\n",
    "- **DIS** is the weighted mean distance to several employment centers around Boston.\n",
    "- **TAX** is the property tax rate per $10,000.\n",
    "- **PTRATIO** is the ratio of pupils (students) to teachers in the school district.\n",
    "- **Target** also refers to MEDV, the median value of the house in thousands of dollars"
   ]
  },
  {
   "cell_type": "code",
   "execution_count": 15,
   "metadata": {},
   "outputs": [
    {
     "name": "stdout",
     "output_type": "stream",
     "text": [
      "<class 'pandas.core.frame.DataFrame'>\n",
      "RangeIndex: 506 entries, 0 to 505\n",
      "Data columns (total 14 columns):\n",
      " #   Column   Non-Null Count  Dtype  \n",
      "---  ------   --------------  -----  \n",
      " 0   CRIM     506 non-null    float64\n",
      " 1   ZN       506 non-null    float64\n",
      " 2   INDUS    506 non-null    float64\n",
      " 3   CHAS     506 non-null    int64  \n",
      " 4   NOX      506 non-null    float64\n",
      " 5   RM       506 non-null    float64\n",
      " 6   AGE      506 non-null    float64\n",
      " 7   DIS      506 non-null    float64\n",
      " 8   RAD      506 non-null    int64  \n",
      " 9   TAX      506 non-null    int64  \n",
      " 10  PTRATIO  506 non-null    float64\n",
      " 11  B        506 non-null    float64\n",
      " 12  LSTAT    506 non-null    float64\n",
      " 13  Target   506 non-null    float64\n",
      "dtypes: float64(11), int64(3)\n",
      "memory usage: 55.5 KB\n"
     ]
    }
   ],
   "source": [
    "data_raw.info()"
   ]
  },
  {
   "cell_type": "markdown",
   "metadata": {},
   "source": [
    "- The training set includes **506 rows** and **14 columns**.\n",
    "- 11 columns contain float values and **3** columns contain integer values.\n",
    "- There is **no missing data** as all rows have values for every column."
   ]
  },
  {
   "cell_type": "markdown",
   "metadata": {},
   "source": []
  }
 ],
 "metadata": {
  "kernelspec": {
   "display_name": "Python 3 (ipykernel)",
   "language": "python",
   "name": "python3"
  },
  "language_info": {
   "codemirror_mode": {
    "name": "ipython",
    "version": 3
   },
   "file_extension": ".py",
   "mimetype": "text/x-python",
   "name": "python",
   "nbconvert_exporter": "python",
   "pygments_lexer": "ipython3",
   "version": "3.8.18"
  }
 },
 "nbformat": 4,
 "nbformat_minor": 4
}
